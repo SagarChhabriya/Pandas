{
 "cells": [
  {
   "cell_type": "code",
   "execution_count": 1,
   "id": "2f42953c",
   "metadata": {},
   "outputs": [],
   "source": [
    "import pandas as pd"
   ]
  },
  {
   "cell_type": "code",
   "execution_count": 2,
   "id": "8784a6ac",
   "metadata": {},
   "outputs": [
    {
     "name": "stdout",
     "output_type": "stream",
     "text": [
      "        Name  Age  Salary   Department\n",
      "0       Abhi   23  105000  Dat Science\n",
      "1        Bob   34   65000    Marketing\n",
      "2    Charlie   29   72000      Finance\n",
      "3      David   45   82000  Engineering\n",
      "4       Ella   21   45000    Marketing\n",
      "5      Frank   26   56000        Sales\n",
      "6       Gina   38   68000  Engineering\n",
      "7      Henry   52   90000      Finance\n",
      "8        Ivy   28   61000        Sales\n",
      "9       John   41   79000  Engineering\n",
      "10     Karen   37   73000      Finance\n",
      "11      Liam   29   54000  Engineering\n",
      "12      Mary   43   88000        Sales\n",
      "13      Nate   25   51000    Marketing\n",
      "14    Olivia   27   59000    Marketing\n",
      "15     Peter   31   63000      Finance\n",
      "16     Queen   46   94000  Engineering\n",
      "17    Rachel   33   76000    Marketing\n",
      "18  Samantha   39   71000  Engineering\n",
      "19       Tom   22   50000        Sales\n"
     ]
    }
   ],
   "source": [
    "# Creating a dictionary with the data\n",
    "data = {\n",
    "    'Name': ['Abhi', 'Bob', 'Charlie', 'David', 'Ella', 'Frank', 'Gina', 'Henry', 'Ivy', 'John', \n",
    "             'Karen', 'Liam', 'Mary', 'Nate', 'Olivia', 'Peter', 'Queen', 'Rachel', 'Samantha', 'Tom'],\n",
    "    'Age': [23, 34, 29, 45, 21, 26, 38, 52, 28, 41, 37, 29, 43, 25, 27, 31, 46, 33, 39, 22],\n",
    "    'Salary': [105000, 65000, 72000, 82000, 45000, 56000, 68000, 90000, 61000, 79000,\n",
    "               73000, 54000, 88000, 51000, 59000, 63000, 94000, 76000, 71000, 50000],\n",
    "    'Department': ['Dat Science', 'Marketing', 'Finance', 'Engineering', 'Marketing', 'Sales', 'Engineering', 'Finance',\n",
    "                   'Sales', 'Engineering', 'Finance', 'Engineering', 'Sales', 'Marketing', 'Marketing', 'Finance',\n",
    "                   'Engineering', 'Marketing', 'Engineering', 'Sales']\n",
    "}\n",
    "\n",
    "# Creating a pandas DataFrame from the dictionary\n",
    "df = pd.DataFrame(data)\n",
    "\n",
    "# Printing the DataFrame\n",
    "print(df)"
   ]
  },
  {
   "cell_type": "code",
   "execution_count": 3,
   "id": "2d222e3b",
   "metadata": {},
   "outputs": [
    {
     "data": {
      "text/html": [
       "<div>\n",
       "<style scoped>\n",
       "    .dataframe tbody tr th:only-of-type {\n",
       "        vertical-align: middle;\n",
       "    }\n",
       "\n",
       "    .dataframe tbody tr th {\n",
       "        vertical-align: top;\n",
       "    }\n",
       "\n",
       "    .dataframe thead th {\n",
       "        text-align: right;\n",
       "    }\n",
       "</style>\n",
       "<table border=\"1\" class=\"dataframe\">\n",
       "  <thead>\n",
       "    <tr style=\"text-align: right;\">\n",
       "      <th></th>\n",
       "      <th>Name</th>\n",
       "      <th>Age</th>\n",
       "      <th>Salary</th>\n",
       "      <th>Department</th>\n",
       "    </tr>\n",
       "  </thead>\n",
       "  <tbody>\n",
       "    <tr>\n",
       "      <th>0</th>\n",
       "      <td>Abhi</td>\n",
       "      <td>23</td>\n",
       "      <td>105000</td>\n",
       "      <td>Dat Science</td>\n",
       "    </tr>\n",
       "    <tr>\n",
       "      <th>1</th>\n",
       "      <td>Bob</td>\n",
       "      <td>34</td>\n",
       "      <td>65000</td>\n",
       "      <td>Marketing</td>\n",
       "    </tr>\n",
       "    <tr>\n",
       "      <th>2</th>\n",
       "      <td>Charlie</td>\n",
       "      <td>29</td>\n",
       "      <td>72000</td>\n",
       "      <td>Finance</td>\n",
       "    </tr>\n",
       "    <tr>\n",
       "      <th>3</th>\n",
       "      <td>David</td>\n",
       "      <td>45</td>\n",
       "      <td>82000</td>\n",
       "      <td>Engineering</td>\n",
       "    </tr>\n",
       "    <tr>\n",
       "      <th>4</th>\n",
       "      <td>Ella</td>\n",
       "      <td>21</td>\n",
       "      <td>45000</td>\n",
       "      <td>Marketing</td>\n",
       "    </tr>\n",
       "  </tbody>\n",
       "</table>\n",
       "</div>"
      ],
      "text/plain": [
       "      Name  Age  Salary   Department\n",
       "0     Abhi   23  105000  Dat Science\n",
       "1      Bob   34   65000    Marketing\n",
       "2  Charlie   29   72000      Finance\n",
       "3    David   45   82000  Engineering\n",
       "4     Ella   21   45000    Marketing"
      ]
     },
     "execution_count": 3,
     "metadata": {},
     "output_type": "execute_result"
    }
   ],
   "source": [
    "# Viewing the DataFrame\n",
    "df.head()"
   ]
  },
  {
   "cell_type": "code",
   "execution_count": 4,
   "id": "9258ed30",
   "metadata": {},
   "outputs": [
    {
     "data": {
      "text/html": [
       "<div>\n",
       "<style scoped>\n",
       "    .dataframe tbody tr th:only-of-type {\n",
       "        vertical-align: middle;\n",
       "    }\n",
       "\n",
       "    .dataframe tbody tr th {\n",
       "        vertical-align: top;\n",
       "    }\n",
       "\n",
       "    .dataframe thead th {\n",
       "        text-align: right;\n",
       "    }\n",
       "</style>\n",
       "<table border=\"1\" class=\"dataframe\">\n",
       "  <thead>\n",
       "    <tr style=\"text-align: right;\">\n",
       "      <th></th>\n",
       "      <th>Name</th>\n",
       "      <th>Age</th>\n",
       "      <th>Salary</th>\n",
       "      <th>Department</th>\n",
       "    </tr>\n",
       "  </thead>\n",
       "  <tbody>\n",
       "    <tr>\n",
       "      <th>15</th>\n",
       "      <td>Peter</td>\n",
       "      <td>31</td>\n",
       "      <td>63000</td>\n",
       "      <td>Finance</td>\n",
       "    </tr>\n",
       "    <tr>\n",
       "      <th>16</th>\n",
       "      <td>Queen</td>\n",
       "      <td>46</td>\n",
       "      <td>94000</td>\n",
       "      <td>Engineering</td>\n",
       "    </tr>\n",
       "    <tr>\n",
       "      <th>17</th>\n",
       "      <td>Rachel</td>\n",
       "      <td>33</td>\n",
       "      <td>76000</td>\n",
       "      <td>Marketing</td>\n",
       "    </tr>\n",
       "    <tr>\n",
       "      <th>18</th>\n",
       "      <td>Samantha</td>\n",
       "      <td>39</td>\n",
       "      <td>71000</td>\n",
       "      <td>Engineering</td>\n",
       "    </tr>\n",
       "    <tr>\n",
       "      <th>19</th>\n",
       "      <td>Tom</td>\n",
       "      <td>22</td>\n",
       "      <td>50000</td>\n",
       "      <td>Sales</td>\n",
       "    </tr>\n",
       "  </tbody>\n",
       "</table>\n",
       "</div>"
      ],
      "text/plain": [
       "        Name  Age  Salary   Department\n",
       "15     Peter   31   63000      Finance\n",
       "16     Queen   46   94000  Engineering\n",
       "17    Rachel   33   76000    Marketing\n",
       "18  Samantha   39   71000  Engineering\n",
       "19       Tom   22   50000        Sales"
      ]
     },
     "execution_count": 4,
     "metadata": {},
     "output_type": "execute_result"
    }
   ],
   "source": [
    "df.tail()"
   ]
  },
  {
   "cell_type": "code",
   "execution_count": 5,
   "id": "1a02e3a0",
   "metadata": {},
   "outputs": [
    {
     "data": {
      "text/plain": [
       "0     23\n",
       "1     34\n",
       "2     29\n",
       "3     45\n",
       "4     21\n",
       "5     26\n",
       "6     38\n",
       "7     52\n",
       "8     28\n",
       "9     41\n",
       "10    37\n",
       "11    29\n",
       "12    43\n",
       "13    25\n",
       "14    27\n",
       "15    31\n",
       "16    46\n",
       "17    33\n",
       "18    39\n",
       "19    22\n",
       "Name: Age, dtype: int64"
      ]
     },
     "execution_count": 5,
     "metadata": {},
     "output_type": "execute_result"
    }
   ],
   "source": [
    "# Selecting a column\n",
    "column = df[\"Age\"]\n",
    "column"
   ]
  },
  {
   "cell_type": "code",
   "execution_count": 6,
   "id": "b2aa74c7",
   "metadata": {},
   "outputs": [
    {
     "name": "stdout",
     "output_type": "stream",
     "text": [
      "<class 'pandas.core.frame.DataFrame'>\n",
      "RangeIndex: 20 entries, 0 to 19\n",
      "Data columns (total 4 columns):\n",
      " #   Column      Non-Null Count  Dtype \n",
      "---  ------      --------------  ----- \n",
      " 0   Name        20 non-null     object\n",
      " 1   Age         20 non-null     int64 \n",
      " 2   Salary      20 non-null     int64 \n",
      " 3   Department  20 non-null     object\n",
      "dtypes: int64(2), object(2)\n",
      "memory usage: 768.0+ bytes\n"
     ]
    }
   ],
   "source": [
    "df.info()"
   ]
  },
  {
   "cell_type": "code",
   "execution_count": 7,
   "id": "e18c3478",
   "metadata": {},
   "outputs": [
    {
     "data": {
      "text/html": [
       "<div>\n",
       "<style scoped>\n",
       "    .dataframe tbody tr th:only-of-type {\n",
       "        vertical-align: middle;\n",
       "    }\n",
       "\n",
       "    .dataframe tbody tr th {\n",
       "        vertical-align: top;\n",
       "    }\n",
       "\n",
       "    .dataframe thead th {\n",
       "        text-align: right;\n",
       "    }\n",
       "</style>\n",
       "<table border=\"1\" class=\"dataframe\">\n",
       "  <thead>\n",
       "    <tr style=\"text-align: right;\">\n",
       "      <th></th>\n",
       "      <th>Age</th>\n",
       "      <th>Salary</th>\n",
       "    </tr>\n",
       "  </thead>\n",
       "  <tbody>\n",
       "    <tr>\n",
       "      <th>count</th>\n",
       "      <td>20.000000</td>\n",
       "      <td>20.000000</td>\n",
       "    </tr>\n",
       "    <tr>\n",
       "      <th>mean</th>\n",
       "      <td>33.450000</td>\n",
       "      <td>70100.000000</td>\n",
       "    </tr>\n",
       "    <tr>\n",
       "      <th>std</th>\n",
       "      <td>8.846498</td>\n",
       "      <td>16088.243501</td>\n",
       "    </tr>\n",
       "    <tr>\n",
       "      <th>min</th>\n",
       "      <td>21.000000</td>\n",
       "      <td>45000.000000</td>\n",
       "    </tr>\n",
       "    <tr>\n",
       "      <th>25%</th>\n",
       "      <td>26.750000</td>\n",
       "      <td>58250.000000</td>\n",
       "    </tr>\n",
       "    <tr>\n",
       "      <th>50%</th>\n",
       "      <td>32.000000</td>\n",
       "      <td>69500.000000</td>\n",
       "    </tr>\n",
       "    <tr>\n",
       "      <th>75%</th>\n",
       "      <td>39.500000</td>\n",
       "      <td>79750.000000</td>\n",
       "    </tr>\n",
       "    <tr>\n",
       "      <th>max</th>\n",
       "      <td>52.000000</td>\n",
       "      <td>105000.000000</td>\n",
       "    </tr>\n",
       "  </tbody>\n",
       "</table>\n",
       "</div>"
      ],
      "text/plain": [
       "             Age         Salary\n",
       "count  20.000000      20.000000\n",
       "mean   33.450000   70100.000000\n",
       "std     8.846498   16088.243501\n",
       "min    21.000000   45000.000000\n",
       "25%    26.750000   58250.000000\n",
       "50%    32.000000   69500.000000\n",
       "75%    39.500000   79750.000000\n",
       "max    52.000000  105000.000000"
      ]
     },
     "execution_count": 7,
     "metadata": {},
     "output_type": "execute_result"
    }
   ],
   "source": [
    "# Calculating summary statistics \n",
    "df.describe()"
   ]
  },
  {
   "cell_type": "code",
   "execution_count": 8,
   "id": "8d46a1d2",
   "metadata": {},
   "outputs": [
    {
     "data": {
      "text/plain": [
       "(20, 4)"
      ]
     },
     "execution_count": 8,
     "metadata": {},
     "output_type": "execute_result"
    }
   ],
   "source": [
    "df.shape"
   ]
  },
  {
   "cell_type": "code",
   "execution_count": 9,
   "id": "9f1a448a",
   "metadata": {},
   "outputs": [
    {
     "data": {
      "text/plain": [
       "Name          20\n",
       "Age           19\n",
       "Salary        20\n",
       "Department     5\n",
       "dtype: int64"
      ]
     },
     "execution_count": 9,
     "metadata": {},
     "output_type": "execute_result"
    }
   ],
   "source": [
    "df.nunique()"
   ]
  },
  {
   "cell_type": "code",
   "execution_count": 10,
   "id": "b86b2414",
   "metadata": {},
   "outputs": [
    {
     "data": {
      "text/plain": [
       "array([23, 34, 29, 45, 21, 26, 38, 52, 28, 41, 37, 43, 25, 27, 31, 46, 33,\n",
       "       39, 22])"
      ]
     },
     "execution_count": 10,
     "metadata": {},
     "output_type": "execute_result"
    }
   ],
   "source": [
    "df.Age.unique()"
   ]
  },
  {
   "cell_type": "code",
   "execution_count": 11,
   "id": "a4277160",
   "metadata": {},
   "outputs": [
    {
     "data": {
      "text/plain": [
       "19"
      ]
     },
     "execution_count": 11,
     "metadata": {},
     "output_type": "execute_result"
    }
   ],
   "source": [
    "df.Age.nunique()"
   ]
  },
  {
   "cell_type": "markdown",
   "id": "2b253d67",
   "metadata": {},
   "source": [
    "# Merging and Joining DataFrames"
   ]
  },
  {
   "cell_type": "code",
   "execution_count": 12,
   "id": "a1a51835",
   "metadata": {},
   "outputs": [
    {
     "name": "stdout",
     "output_type": "stream",
     "text": [
      "    A   B key\n",
      "0  A0  B0  K0\n",
      "1  A1  B1  K1\n",
      "2  A2  B2  K2\n",
      "3  A3  B3  K3\n",
      "    C   D key\n",
      "0  C0  D0  K0\n",
      "1  C1  D1  K1\n",
      "2  C2  D2  K2\n",
      "3  C3  D3  K3\n",
      "    A   B key   C   D\n",
      "0  A0  B0  K0  C0  D0\n",
      "1  A1  B1  K1  C1  D1\n",
      "2  A2  B2  K2  C2  D2\n",
      "3  A3  B3  K3  C3  D3\n",
      "    A   B key   E   F\n",
      "0  A0  B0  K0  E0  F0\n",
      "1  A1  B1  K1  E1  F1\n",
      "2  A2  B2  K2  E2  F2\n",
      "3  A3  B3  K3  E3  F3\n"
     ]
    }
   ],
   "source": [
    "# Creating two dataframes\n",
    "df1 = pd.DataFrame({'A': ['A0', 'A1', 'A2', 'A3'],\n",
    "                    'B': ['B0', 'B1', 'B2', 'B3'],\n",
    "                    'key': ['K0', 'K1', 'K2', 'K3']})\n",
    "\n",
    "df2 = pd.DataFrame({'C': ['C0', 'C1', 'C2', 'C3'],\n",
    "                    'D': ['D0', 'D1', 'D2', 'D3'],\n",
    "                    'key': ['K0', 'K1', 'K2', 'K3']})\n",
    "\n",
    "# Merging the dataframes on the key column\n",
    "merged_df = pd.merge(df1, df2, on='key')\n",
    "\n",
    "# Joining the dataframes on the index\n",
    "df3 = pd.DataFrame({'E': ['E0', 'E1', 'E2', 'E3'],\n",
    "                    'F': ['F0', 'F1', 'F2', 'F3']})\n",
    "\n",
    "joined_df = df1.join(df3)\n",
    "\n",
    "# Printing the original and modified dataframes\n",
    "print(df1)\n",
    "print(df2)\n",
    "print(merged_df)\n",
    "print(joined_df)"
   ]
  },
  {
   "cell_type": "markdown",
   "id": "57b46c86",
   "metadata": {},
   "source": [
    "# Grouping and Aggregating Data"
   ]
  },
  {
   "cell_type": "code",
   "execution_count": 13,
   "id": "5e91e5b3",
   "metadata": {},
   "outputs": [
    {
     "name": "stdout",
     "output_type": "stream",
     "text": [
      "         C     D\n",
      "A               \n",
      "Abhi  4.25  42.5\n",
      "jhon  4.75  47.5\n"
     ]
    }
   ],
   "source": [
    "# Creating a dataframe\n",
    "df = pd.DataFrame({'A': ['Abhi', 'jhon', 'Abhi', 'jhon', 'Abhi', 'jhon', 'jhon', 'Abhi'],\n",
    "                   'B': ['one', 'one', 'two', 'three', 'two', 'two', 'one', 'three'],\n",
    "                   'C': [1, 2, 3, 4, 5, 6, 7, 8],\n",
    "                   'D': [10, 20, 30, 40, 50, 60, 70, 80]})\n",
    "\n",
    "# Grouping the dataframe by column A and compute the mean of columns C and D for each group\n",
    "grouped_df = df.groupby('A').agg({'C': 'mean', 'D': 'mean'})\n",
    "\n",
    "# Printing the grouped dataframe\n",
    "print(grouped_df)"
   ]
  },
  {
   "cell_type": "markdown",
   "id": "d067e3ef",
   "metadata": {},
   "source": [
    "# Reshaping and Pivoting Data"
   ]
  },
  {
   "cell_type": "code",
   "execution_count": 14,
   "id": "2ad6c018",
   "metadata": {},
   "outputs": [
    {
     "name": "stdout",
     "output_type": "stream",
     "text": [
      "Bc       A    B    C    D    E    F    G    H\n",
      "Ab                                           \n",
      "one    1.0  2.0  NaN  NaN  5.0  NaN  NaN  8.0\n",
      "three  NaN  NaN  NaN  NaN  NaN  6.0  NaN  NaN\n",
      "two    NaN  NaN  3.0  4.0  NaN  NaN  7.0  NaN\n"
     ]
    }
   ],
   "source": [
    "# Creating a dataframe\n",
    "df = pd.DataFrame({'Ab': ['one', 'one', 'two', 'two', 'one', 'three', 'two', 'one'],\n",
    "                   'Bc': ['A', 'B', 'C', 'D', 'E', 'F', 'G', 'H'],\n",
    "                   'Cd': [1, 2, 3, 4, 5, 6, 7, 8]})\n",
    "\n",
    "# Reshaping the dataframe from a long to a wide format\n",
    "pivoted_df = df.pivot(index='Ab', columns='Bc', values='Cd')\n",
    "\n",
    "# Printing the pivoted dataframe\n",
    "print(pivoted_df)"
   ]
  },
  {
   "cell_type": "markdown",
   "id": "7fd6809f",
   "metadata": {},
   "source": [
    "# Handling Missing Data"
   ]
  },
  {
   "cell_type": "code",
   "execution_count": 15,
   "id": "c3fe4712",
   "metadata": {},
   "outputs": [
    {
     "name": "stdout",
     "output_type": "stream",
     "text": [
      "     A    B   C\n",
      "0  1.0  5.0   9\n",
      "1  2.0  NaN  10\n",
      "2  NaN  NaN  11\n",
      "3  4.0  8.0  12\n",
      "     A    B   C\n",
      "0  1.0  5.0   9\n",
      "3  4.0  8.0  12\n",
      "     A    B   C\n",
      "0  1.0  5.0   9\n",
      "1  2.0  0.0  10\n",
      "2  0.0  0.0  11\n",
      "3  4.0  8.0  12\n",
      "     A    B   C\n",
      "0  1.0  5.0   9\n",
      "1  2.0  6.0  10\n",
      "2  3.0  7.0  11\n",
      "3  4.0  8.0  12\n"
     ]
    }
   ],
   "source": [
    "import numpy as np\n",
    "# Creating a dataframe with missing values\n",
    "df = pd.DataFrame({'A': [1, 2, np.nan, 4],\n",
    "                   'B': [5, np.nan, np.nan, 8],\n",
    "                   'C': [9, 10, 11, 12]})\n",
    "\n",
    "# Droping rows with missing values\n",
    "dropped_df = df.dropna()\n",
    "\n",
    "# Filling missing values with a specific value\n",
    "filled_df = df.fillna(0)\n",
    "\n",
    "# Interpolate missing values\n",
    "interpolated_df = df.interpolate()\n",
    "\n",
    "# Printing the original and modified dataframes\n",
    "print(df)\n",
    "print(dropped_df)\n",
    "print(filled_df)\n",
    "print(interpolated_df)"
   ]
  },
  {
   "cell_type": "markdown",
   "id": "9dc880c1",
   "metadata": {},
   "source": [
    "# Applying Functions to Data"
   ]
  },
  {
   "cell_type": "code",
   "execution_count": 16,
   "id": "856f28d8",
   "metadata": {},
   "outputs": [
    {
     "name": "stdout",
     "output_type": "stream",
     "text": [
      "   A  B   C\n",
      "0  1  5   9\n",
      "1  2  6  10\n",
      "2  3  7  11\n",
      "3  4  8  12\n",
      "   A  B   C\n",
      "0  2  6  10\n",
      "1  3  7  11\n",
      "2  4  8  12\n",
      "3  5  9  13\n"
     ]
    }
   ],
   "source": [
    "# Creating a dataframe\n",
    "df = pd.DataFrame({'A': [1, 2, 3, 4],\n",
    "                   'B': [5, 6, 7, 8],\n",
    "                   'C': [9, 10, 11, 12]})\n",
    "\n",
    "# Applying a function to each column\n",
    "def add_one(x):\n",
    "    return x + 1\n",
    "\n",
    "applied_df = df.apply(add_one)\n",
    "\n",
    "# Printing the original and modified dataframes\n",
    "print(df)\n",
    "print(applied_df)"
   ]
  },
  {
   "cell_type": "markdown",
   "id": "de483895",
   "metadata": {},
   "source": [
    "# Time Series Analysis"
   ]
  },
  {
   "cell_type": "code",
   "execution_count": 17,
   "id": "0f449873",
   "metadata": {},
   "outputs": [
    {
     "name": "stdout",
     "output_type": "stream",
     "text": [
      "                     data\n",
      "date                     \n",
      "2022-01-01 00:00:00    24\n",
      "2022-01-01 01:00:00    41\n",
      "2022-01-01 02:00:00    79\n",
      "2022-01-01 03:00:00     0\n",
      "2022-01-01 04:00:00    60\n",
      "            data\n",
      "date            \n",
      "2022-01-01  1079\n",
      "2022-01-02  1164\n",
      "2022-01-03  1409\n",
      "2022-01-04  1314\n",
      "2022-01-05  1109\n",
      "                     data\n",
      "date                     \n",
      "2022-01-01 00:00:00   NaN\n",
      "2022-01-01 01:00:00   NaN\n",
      "2022-01-01 02:00:00   NaN\n",
      "2022-01-01 03:00:00   NaN\n",
      "2022-01-01 04:00:00   NaN\n",
      "                 data                  \n",
      "                 mean median        std\n",
      "date                                   \n",
      "2022-01-31  52.718894   54.0  27.491737\n"
     ]
    }
   ],
   "source": [
    "# Creating a datetime index with hourly frequency\n",
    "date_rng = pd.date_range(start='1/1/2022', end='1/10/2022', freq='H')\n",
    "\n",
    "# Creating a DataFrame with datetime index and random values\n",
    "df = pd.DataFrame(date_rng, columns=['date'])\n",
    "df['data'] = np.random.randint(0,100,size=(len(date_rng)))\n",
    "\n",
    "# Seting the datetime index\n",
    "df.set_index('date', inplace=True)\n",
    "\n",
    "# Resampling the data to daily frequency\n",
    "daily_df = df.resample('D').sum()\n",
    "\n",
    "# Computing a 7-day rolling average\n",
    "rolling_avg_df = df.rolling(window=7).mean()\n",
    "\n",
    "# Computing the mean, median and standard deviation for each month\n",
    "monthly_stats = df.resample('M').agg(['mean', 'median', 'std'])\n",
    "\n",
    "# Printing the results\n",
    "print(df.head())\n",
    "print(daily_df.head())\n",
    "print(rolling_avg_df.head())\n",
    "print(monthly_stats.head())"
   ]
  }
 ],
 "metadata": {
  "kernelspec": {
   "display_name": "Python 3 (ipykernel)",
   "language": "python",
   "name": "python3"
  },
  "language_info": {
   "codemirror_mode": {
    "name": "ipython",
    "version": 3
   },
   "file_extension": ".py",
   "mimetype": "text/x-python",
   "name": "python",
   "nbconvert_exporter": "python",
   "pygments_lexer": "ipython3",
   "version": "3.9.16"
  }
 },
 "nbformat": 4,
 "nbformat_minor": 5
}
